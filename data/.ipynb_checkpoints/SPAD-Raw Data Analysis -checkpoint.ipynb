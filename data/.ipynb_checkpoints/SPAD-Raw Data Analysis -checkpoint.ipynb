{
 "cells": [
  {
   "cell_type": "code",
   "execution_count": 1,
   "id": "4b558bdf",
   "metadata": {},
   "outputs": [
    {
     "name": "stdout",
     "output_type": "stream",
     "text": [
      "[ 0  0  0 ... 20 72  0]\n"
     ]
    }
   ],
   "source": [
    "import os \n",
    "import matplotlib.pyplot as plt\n",
    "\n",
    "#files = [each for each in os.listdir() if each.endswith('.bin')]\n",
    "#files\n",
    "\n",
    "import numpy as np \n",
    "\n",
    "file_name = 'lens.bin'\n",
    "\n",
    "dtype = np.uint8\n",
    "try:\n",
    "    with open(file_name, \"rb\") as f:\n",
    "        numpy_data = np.fromfile(f,dtype)\n",
    "    print(numpy_data)\n",
    "except IOError:\n",
    "\n",
    "    print('Error While Opening the file!') "
   ]
  },
  {
   "cell_type": "code",
   "execution_count": 13,
   "id": "e8071549",
   "metadata": {},
   "outputs": [],
   "source": [
    "kazma = numpy_data[-960000000:]\n",
    "\n",
    "data = np.unpackbits(kazma)\n",
    "\n",
    "recording_duration = 10\n",
    "\n",
    "no_of_bitplanes = recording_duration*10000\n",
    "\n",
    "matrix_data = data.reshape((no_of_bitplanes,-1))\n",
    "\n",
    "\n",
    "trace = matrix_data.sum(axis = 1)\n",
    "\n",
    "time = np.arange(0,recording_duration*10000)/10000\n",
    "\n",
    "video = np.zeros((10000, 240, 320))\n",
    "video.shape\n",
    "\n",
    "for i in range(10000):\n",
    "    img_  = matrix_data[i,:].reshape(240,320)\n",
    "    video[i,:,:]=img_[:,:]"
   ]
  },
  {
   "cell_type": "code",
   "execution_count": 14,
   "id": "8b4f7a80",
   "metadata": {},
   "outputs": [
    {
     "data": {
      "text/plain": [
       "(10000, 240, 320)"
      ]
     },
     "execution_count": 14,
     "metadata": {},
     "output_type": "execute_result"
    }
   ],
   "source": []
  },
  {
   "cell_type": "code",
   "execution_count": 1,
   "id": "4b55ad5c",
   "metadata": {
    "scrolled": true
   },
   "outputs": [
    {
     "name": "stdout",
     "output_type": "stream",
     "text": [
      "[  1 240   0 ...   0   0   0]\n"
     ]
    },
    {
     "ename": "ValueError",
     "evalue": "cannot reshape array of size 7680153624 into shape (10002,newaxis)",
     "output_type": "error",
     "traceback": [
      "\u001b[0;31m---------------------------------------------------------------------------\u001b[0m",
      "\u001b[0;31mValueError\u001b[0m                                Traceback (most recent call last)",
      "\u001b[0;32m/tmp/ipykernel_13155/2635278616.py\u001b[0m in \u001b[0;36m<module>\u001b[0;34m\u001b[0m\n\u001b[1;32m     27\u001b[0m     \u001b[0mno_of_bitplanes\u001b[0m \u001b[0;34m=\u001b[0m \u001b[0mno_of_bitplanes\u001b[0m\u001b[0;34m+\u001b[0m\u001b[0;36m2\u001b[0m\u001b[0;34m\u001b[0m\u001b[0;34m\u001b[0m\u001b[0m\n\u001b[1;32m     28\u001b[0m \u001b[0;34m\u001b[0m\u001b[0m\n\u001b[0;32m---> 29\u001b[0;31m \u001b[0mmatrix_data\u001b[0m \u001b[0;34m=\u001b[0m \u001b[0mdata\u001b[0m\u001b[0;34m.\u001b[0m\u001b[0mreshape\u001b[0m\u001b[0;34m(\u001b[0m\u001b[0;34m(\u001b[0m\u001b[0mno_of_bitplanes\u001b[0m\u001b[0;34m,\u001b[0m\u001b[0;34m-\u001b[0m\u001b[0;36m1\u001b[0m\u001b[0;34m)\u001b[0m\u001b[0;34m)\u001b[0m\u001b[0;34m\u001b[0m\u001b[0;34m\u001b[0m\u001b[0m\n\u001b[0m\u001b[1;32m     30\u001b[0m \u001b[0;34m\u001b[0m\u001b[0m\n\u001b[1;32m     31\u001b[0m \u001b[0;34m\u001b[0m\u001b[0m\n",
      "\u001b[0;31mValueError\u001b[0m: cannot reshape array of size 7680153624 into shape (10002,newaxis)"
     ]
    }
   ],
   "source": [
    "import os \n",
    "import matplotlib.pyplot as plt\n",
    "\n",
    "#files = [each for each in os.listdir() if each.endswith('.bin')]\n",
    "#files\n",
    "\n",
    "import numpy as np \n",
    "\n",
    "file_name = '/home/kurtulus/Documents/Tian Pipeline Files/continuous SPAD-20211020T173532Z-001/continuous SPAD/real data/spc_data1.bin'\n",
    "\n",
    "dtype = np.uint8\n",
    "try:\n",
    "    with open(file_name, \"rb\") as f:\n",
    "        numpy_data = np.fromfile(f,dtype)\n",
    "    print(numpy_data)\n",
    "except IOError:\n",
    "\n",
    "    print('Error While Opening the file!') \n",
    "    \n",
    "recording_duration = 1\n",
    "block_no = 1\n",
    "data = np.unpackbits(numpy_data)\n",
    "\n",
    "no_of_bitplanes = recording_duration*10000\n",
    "\n",
    "if block_no==1:\n",
    "    no_of_bitplanes = no_of_bitplanes+2\n",
    "\n",
    "matrix_data = data.reshape((no_of_bitplanes,-1))\n",
    "\n",
    "\n",
    "trace = matrix_data.sum(axis = 1)\n",
    "\n",
    "time = np.arange(0,recording_duration*10000)/10000\n",
    "\n",
    "video = np.zeros((10002, 240, 320))\n",
    "video.shape\n",
    "\n",
    "for i in range(10002):\n",
    "    img_  = matrix_data[i,:].reshape(240,320)\n",
    "    video[i,:,:]=img_[:,:]"
   ]
  },
  {
   "cell_type": "code",
   "execution_count": null,
   "id": "229c6b16",
   "metadata": {},
   "outputs": [],
   "source": [
    "import pyqtgraph as pg\n",
    "import pyqtgraph.exporters\n",
    "import numpy as np\n",
    "#plt = pg.plot(np.random.normal(size=100), title=\"Simplest possible plotting example\")\n",
    "\n",
    "imv = pg.ImageView()\n",
    "imv.show()\n",
    "imv.setImage(video, xvals=vide.shape[1])\n",
    "\n",
    "## Start Qt event loop unless running in interactive mode or using pyside.\n",
    "if __name__ == '__main__':\n",
    "    import sys\n",
    "    if sys.flags.interactive != 1 or not hasattr(pg.QtCore, 'PYQT_VERSION'):\n",
    "        pg.QtGui.QApplication.exec_()"
   ]
  },
  {
   "cell_type": "code",
   "execution_count": null,
   "id": "e310f1fb",
   "metadata": {},
   "outputs": [],
   "source": [
    "numpy_data[:96000000].shape"
   ]
  },
  {
   "cell_type": "code",
   "execution_count": null,
   "id": "459c7403",
   "metadata": {},
   "outputs": [],
   "source": [
    "96000000/10000"
   ]
  },
  {
   "cell_type": "code",
   "execution_count": null,
   "id": "b155097a",
   "metadata": {},
   "outputs": [],
   "source": [
    "from AnalyseSPADPhotometry import*\n",
    "from SimulateShotNoise import*\n",
    "\n",
    "simulation = SimulateShotNoise()\n",
    "\n",
    "SPADPipeline = AnalyseSPADPhotometry()\n"
   ]
  },
  {
   "cell_type": "code",
   "execution_count": null,
   "id": "ba6ddea2",
   "metadata": {},
   "outputs": [],
   "source": []
  },
  {
   "cell_type": "code",
   "execution_count": null,
   "id": "c5b222ed",
   "metadata": {},
   "outputs": [],
   "source": [
    "file_name = \"tian-2022-03-09-192746_block_1.bin\"\n",
    "block_no = 1\n",
    "recording_duration = 10 #in terms of seconds \n",
    "real_trace, time =SPADPipeline.extract_trace(file_name, block_no, recording_duration)\n",
    "\n",
    "plt.figure(figsize =(20,8))\n",
    "plt.plot(time,real_trace[-recording_duration*10000:])\n",
    "#plt.ylim([250000,500000])\n",
    "#plt.xlim([0.2, 0.21])\n",
    "plt.xlabel('Time(seconds)')\n",
    "plt.ylabel('Photon Counts')\n",
    "#plt.title('1 second-150Hz-Sine SPADs Recording')"
   ]
  },
  {
   "cell_type": "code",
   "execution_count": null,
   "id": "729cc984",
   "metadata": {},
   "outputs": [],
   "source": [
    "#choosing the waveform\n",
    "wave_type = 'sine'\n",
    "#frequency of the wave on Hz\n",
    "frequency = 1300\n",
    "#this parameter is just to represent the signal as continious as possible.\n",
    "sampling_freq = 100000 \n",
    "#the amplitude in terms of the expected photon counts\n",
    "amplitude = 4000 #think about the saturation. \n",
    "\n",
    "theta=0\n",
    "#constructing the waveform with the above paramaters\n",
    "\n",
    "offset = 26000\n",
    "stimulation = simulation.create_wave(wave_type, frequency, sampling_freq, amplitude, theta, offset)\n",
    "\n",
    "#just to represent the signal in terms of seconnds.\n",
    "time_axis = np.arange(0,1,1/sampling_freq)\n",
    "\n",
    "#plot the waveform (note that sine waveform also has offset parameter to prevent the negative photon counts!)\n",
    "plt.figure(figsize = (20,8))\n",
    "plt.plot(time_axis,stimulation)\n",
    "#plt.xlim([0.2,0.3]) #play with this to observe the wave if you set the high frequency\n",
    "plt.xlabel('Time(seconds)', fontsize = 20)\n",
    "plt.ylabel('Photon Counts', fontsize = 20)\n",
    "plt.title(wave_type+'wave with '+str(frequency)+' Hz', fontsize = 25)\n",
    "plt.xticks(fontsize=30)\n",
    "plt.yticks(fontsize=30)"
   ]
  },
  {
   "cell_type": "code",
   "execution_count": null,
   "id": "6bf9a51b",
   "metadata": {
    "scrolled": true
   },
   "outputs": [],
   "source": [
    "#setting sampling rate(number of frames per seconds)\n",
    "sensor_sampling_rate = 10000\n",
    "#setting patterns into stimulation paramater that we set above\n",
    "stimulation_pattern = stimulation\n",
    "#waveform sampling frequency is also needed here. \n",
    "waveform_sampling_frequency = sampling_freq\n",
    "#run the simulation based on the set paramaters\n",
    "simulated_trace = simulation.simulate_sensor(sensor_sampling_rate, stimulation_pattern, waveform_sampling_frequency)\n",
    "\n",
    "#again setting the time axis to match with second resolutions. \n",
    "time_ax = np.arange(0,1,1/sensor_sampling_rate)\n",
    "\n",
    "#Plot the sensor response\n",
    "plt.figure(figsize =(20,8))\n",
    "plt.plot(time_ax ,simulated_trace, 'r-', alpha = 1)\n",
    "#plt.plot(time_axis, stimulation, alpha = 1)\n",
    "#plt.xlim([0.2,0.25])\n",
    "plt.xlabel('Time(seconds)', fontsize = 20)\n",
    "plt.ylabel('Photon Counts', fontsize = 20)\n",
    "plt.title('Sensor output with '+wave_type+'wave with '+str(frequency)+' Hz', fontsize = 25)\n",
    "plt.xticks(fontsize=30)\n",
    "plt.yticks(fontsize=30)"
   ]
  },
  {
   "cell_type": "code",
   "execution_count": null,
   "id": "ff82fcd0",
   "metadata": {},
   "outputs": [],
   "source": [
    "fig, axs = plt.subplots(2, figsize=(20,10))\n",
    "axs[0].plot(time, real_trace[-recording_duration*10000:])\n",
    "axs[0].set_title(\"Real Sensor Response at \"+str(frequency)+\"Hz\", fontsize=20)\n",
    "axs[0].set_xlim([0.2,0.203])\n",
    "axs[1].plot(time_ax, simulated_trace,'r-')\n",
    "axs[1].set_title(\"Simulated Sensor Response at \"+str(frequency)+\"Hz\", fontsize=20)\n",
    "axs[1].set_xlim([0.2, 0.203])\n",
    "fig.tight_layout()"
   ]
  },
  {
   "cell_type": "code",
   "execution_count": null,
   "id": "a42bcfb0",
   "metadata": {},
   "outputs": [],
   "source": [
    "import numpy as np \n",
    "import matplotlib.pyplot as plt\n",
    "\n",
    "dtype = np.uint8\n",
    "try:\n",
    "    with open(\"900Hz_-2022-03-04-203444_block_1.bin\", \"rb\") as f:\n",
    "        numpy_data = np.fromfile(f,dtype)\n",
    "    print(numpy_data)\n",
    "except IOError:\n",
    "\n",
    "    print('Error While Opening the file!') \n",
    "    \n",
    "    \n",
    "data = np.unpackbits(numpy_data)\n",
    "\n",
    "no_of_bitplanes = 10000+2\n",
    "matrix_data = data.reshape((no_of_bitplanes,-1))\n",
    "\n",
    "\n",
    "trace = matrix_data.sum(axis = 1)\n",
    "\n",
    "time = np.arange(0,10000)/10000\n",
    "plt.figure(figsize =(12,4))\n",
    "plt.plot(time,trace[-10000:])\n",
    "#plt.ylim([250000,500000])\n",
    "plt.xlim([0.2, 0.21])\n",
    "plt.xlabel('Time(seconds)')\n",
    "plt.ylabel('Photon Counts')\n",
    "plt.title('1 second-900Hz-Sine SPADs Recording')"
   ]
  },
  {
   "cell_type": "code",
   "execution_count": null,
   "id": "13d38a85",
   "metadata": {},
   "outputs": [],
   "source": [
    "import numpy as np \n",
    "import matplotlib.pyplot as plt\n",
    "\n",
    "dtype = np.uint8\n",
    "try:\n",
    "    with open(\"700Hz_-2022-03-04-203332_block_1.bin\", \"rb\") as f:\n",
    "        numpy_data = np.fromfile(f,dtype)\n",
    "    print(numpy_data)\n",
    "except IOError:\n",
    "\n",
    "    print('Error While Opening the file!') \n",
    "    \n",
    "    \n",
    "data = np.unpackbits(numpy_data)\n",
    "\n",
    "no_of_bitplanes = 10000+2\n",
    "matrix_data = data.reshape((no_of_bitplanes,-1))\n",
    "\n",
    "\n",
    "trace = matrix_data.sum(axis = 1)\n",
    "\n",
    "time = np.arange(0,10000)/10000\n",
    "plt.figure(figsize =(12,4))\n",
    "plt.plot(time,trace[-10000:])\n",
    "#plt.ylim([250000,500000])\n",
    "plt.xlim([0.2, 0.21])\n",
    "plt.xlabel('Time(seconds)')\n",
    "plt.ylabel('Photon Counts')\n",
    "plt.title('1 second-700Hz-Sine SPADs Recording')"
   ]
  },
  {
   "cell_type": "code",
   "execution_count": null,
   "id": "d520ed6d",
   "metadata": {},
   "outputs": [],
   "source": [
    "import numpy as np \n",
    "import matplotlib.pyplot as plt\n",
    "\n",
    "dtype = np.uint8\n",
    "try:\n",
    "    with open(\"500Hz_-2022-03-04-203128_block_1.bin\", \"rb\") as f:\n",
    "        numpy_data = np.fromfile(f,dtype)\n",
    "    print(numpy_data)\n",
    "except IOError:\n",
    "\n",
    "    print('Error While Opening the file!') \n",
    "    \n",
    "    \n",
    "data = np.unpackbits(numpy_data)\n",
    "\n",
    "no_of_bitplanes = 10000+2\n",
    "matrix_data = data.reshape((no_of_bitplanes,-1))\n",
    "\n",
    "\n",
    "trace = matrix_data.sum(axis = 1)\n",
    "\n",
    "time = np.arange(0,10000)/10000\n",
    "plt.figure(figsize =(12,4))\n",
    "plt.plot(time,trace[-10000:])\n",
    "#plt.ylim([250000,500000])\n",
    "plt.xlim([0.2, 0.21])\n",
    "plt.xlabel('Time(seconds)')\n",
    "plt.ylabel('Photon Counts')\n",
    "plt.title('1 second-500Hz-Sine SPADs Recording')"
   ]
  },
  {
   "cell_type": "code",
   "execution_count": null,
   "id": "cfd7339d",
   "metadata": {},
   "outputs": [],
   "source": [
    "import numpy as np \n",
    "import matplotlib.pyplot as plt\n",
    "\n",
    "dtype = np.uint8\n",
    "try:\n",
    "    with open(\"400Hz_-2022-03-04-203057_block_1.bin\", \"rb\") as f:\n",
    "        numpy_data = np.fromfile(f,dtype)\n",
    "    print(numpy_data)\n",
    "except IOError:\n",
    "\n",
    "    print('Error While Opening the file!') \n",
    "    \n",
    "    \n",
    "data = np.unpackbits(numpy_data)\n",
    "\n",
    "no_of_bitplanes = 10000+2\n",
    "matrix_data = data.reshape((no_of_bitplanes,-1))\n",
    "\n",
    "\n",
    "trace = matrix_data.sum(axis = 1)\n",
    "\n",
    "time = np.arange(0,10000)/10000\n",
    "plt.figure(figsize =(12,4))\n",
    "plt.plot(time,trace[-10000:])\n",
    "#plt.ylim([250000,500000])\n",
    "plt.xlim([0.2, 0.4])\n",
    "plt.xlabel('Time(seconds)')\n",
    "plt.ylabel('Photon Counts')\n",
    "plt.title('1 second-400Hz-Sine SPADs Recording')"
   ]
  },
  {
   "cell_type": "code",
   "execution_count": null,
   "id": "9ceb91cf",
   "metadata": {},
   "outputs": [],
   "source": [
    "import numpy as np \n",
    "import matplotlib.pyplot as plt\n",
    "\n",
    "dtype = np.uint8\n",
    "try:\n",
    "    with open(\"300Hz_-2022-03-04-203015_block_1.bin\", \"rb\") as f:\n",
    "        numpy_data = np.fromfile(f,dtype)\n",
    "    print(numpy_data)\n",
    "except IOError:\n",
    "\n",
    "    print('Error While Opening the file!') \n",
    "    \n",
    "    \n",
    "data = np.unpackbits(numpy_data)\n",
    "\n",
    "no_of_bitplanes = 10000+2\n",
    "matrix_data = data.reshape((no_of_bitplanes,-1))\n",
    "\n",
    "\n",
    "trace = matrix_data.sum(axis = 1)\n",
    "\n",
    "time = np.arange(0,10000)/10000\n",
    "plt.figure(figsize =(12,4))\n",
    "plt.plot(time,trace[-10000:])\n",
    "#plt.ylim([250000,500000])\n",
    "plt.xlim([0.2, 0.21])\n",
    "plt.xlabel('Time(seconds)')\n",
    "plt.ylabel('Photon Counts')\n",
    "plt.title('1 second-300Hz-Sine SPADs Recording')"
   ]
  }
 ],
 "metadata": {
  "kernelspec": {
   "display_name": "Python 3 (ipykernel)",
   "language": "python",
   "name": "python3"
  },
  "language_info": {
   "codemirror_mode": {
    "name": "ipython",
    "version": 3
   },
   "file_extension": ".py",
   "mimetype": "text/x-python",
   "name": "python",
   "nbconvert_exporter": "python",
   "pygments_lexer": "ipython3",
   "version": "3.7.10"
  }
 },
 "nbformat": 4,
 "nbformat_minor": 5
}
